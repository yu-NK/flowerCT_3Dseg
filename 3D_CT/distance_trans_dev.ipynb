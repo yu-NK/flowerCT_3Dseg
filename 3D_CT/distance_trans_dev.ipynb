{
 "cells": [
  {
   "cell_type": "code",
   "execution_count": 2,
   "metadata": {},
   "outputs": [
    {
     "ename": "IndexError",
     "evalue": "arrays used as indices must be of integer (or boolean) type",
     "output_type": "error",
     "traceback": [
      "\u001b[0;31m---------------------------------------------------------------------------\u001b[0m",
      "\u001b[0;31mIndexError\u001b[0m                                Traceback (most recent call last)",
      "\u001b[0;32m<ipython-input-2-45dcf6280c4b>\u001b[0m in \u001b[0;36m<module>\u001b[0;34m\u001b[0m\n\u001b[1;32m     27\u001b[0m             \u001b[0;32mfor\u001b[0m \u001b[0my_c\u001b[0m \u001b[0;32min\u001b[0m \u001b[0mrange\u001b[0m\u001b[0;34m(\u001b[0m\u001b[0;36m914\u001b[0m\u001b[0;34m)\u001b[0m\u001b[0;34m:\u001b[0m\u001b[0;34m\u001b[0m\u001b[0;34m\u001b[0m\u001b[0m\n\u001b[1;32m     28\u001b[0m                 \u001b[0;32mif\u001b[0m\u001b[0;34m(\u001b[0m\u001b[0mimg\u001b[0m\u001b[0;34m[\u001b[0m\u001b[0mx_c\u001b[0m\u001b[0;34m,\u001b[0m\u001b[0my_c\u001b[0m\u001b[0;34m]\u001b[0m \u001b[0;34m>=\u001b[0m \u001b[0mthreshold_value\u001b[0m\u001b[0;34m)\u001b[0m\u001b[0;34m:\u001b[0m\u001b[0;34m\u001b[0m\u001b[0;34m\u001b[0m\u001b[0m\n\u001b[0;32m---> 29\u001b[0;31m                     \u001b[0mORA_3d_axial\u001b[0m\u001b[0;34m[\u001b[0m\u001b[0mz\u001b[0m\u001b[0;34m]\u001b[0m\u001b[0;34m[\u001b[0m\u001b[0my\u001b[0m\u001b[0;34m]\u001b[0m\u001b[0;34m[\u001b[0m\u001b[0mx\u001b[0m\u001b[0;34m]\u001b[0m \u001b[0;34m=\u001b[0m \u001b[0;36m1\u001b[0m\u001b[0;34m\u001b[0m\u001b[0;34m\u001b[0m\u001b[0m\n\u001b[0m",
      "\u001b[0;31mIndexError\u001b[0m: arrays used as indices must be of integer (or boolean) type"
     ]
    }
   ],
   "source": [
    "import copy\n",
    "import numpy as np\n",
    "import open3d as o3d\n",
    "import cv2\n",
    "import matplotlib.pyplot as plt\n",
    "from mpl_toolkits.mplot3d import Axes3D\n",
    "\n",
    "if __name__ == \"__main__\":\n",
    "    \n",
    "    ORA_3d_axial = np.zeros((888,914,857))\n",
    "    \n",
    "    x = np.empty(0)\n",
    "    y = np.empty(0)\n",
    "    z = np.empty(0)\n",
    "    \n",
    "    x_list = x.tolist()\n",
    "    y_list = y.tolist()\n",
    "    z_list = z.tolist()\n",
    "    \n",
    "    for z_c in range(887):\n",
    "        img = cv2.imread('../../flower_CT_photo/ORA/[vg-data] ORA/volume_1/ORA-{0:03d}.tif'.format(z_c),0)\n",
    "    \n",
    "        #閾値設定\n",
    "        threshold_value = 60\n",
    "    \n",
    "        for x_c in range(857):\n",
    "            for y_c in range(914):\n",
    "                if(img[x_c,y_c] >= threshold_value):\n",
    "                    ORA_3d_axial[z][y][x] = 1"
   ]
  },
  {
   "cell_type": "code",
   "execution_count": null,
   "metadata": {},
   "outputs": [],
   "source": [
    "    x_list.append(x_c)\n",
    "    y_list.append(y_c)\n",
    "    z_list.append(z_c) \n",
    "                    \n",
    "    x = np.asarray(x_list)\n",
    "    y = np.asarray(y_list)\n",
    "    z = np.asarray(z_list)\n",
    "    \n",
    "    #mesh_x, mesh_y, mesh_z = np.meshgrid(x, y, z)\n",
    "    \n",
    "    #xyz = np.zeros((np.size(mesh_x), 3))\n",
    "    #xyz[:, 0] = np.reshape(mesh_x, -1)\n",
    "    #xyz[:, 1] = np.reshape(mesh_y, -1)\n",
    "    #xyz[:, 2] = np.reshape(mesh_z, -1)\n",
    "    \n",
    "    xyz = np.zeros((np.size(x), 3))\n",
    "    xyz[:, 0] = np.reshape(x, -1)\n",
    "    xyz[:, 1] = np.reshape(y, -1)\n",
    "    xyz[:, 2] = np.reshape(z, -1)\n",
    "    \n",
    "    # pass xyz to Open3d.o3d.Geometry.PointCloud and visualize\n",
    "    pcd = o3d.PointCloud()\n",
    "\n",
    "    pcd.points = o3d.Vector3dVector(xyz)\n",
    "\n",
    "    o3d.write_point_cloud(\"../output/ORA_axial.ply\", pcd)"
   ]
  }
 ],
 "metadata": {
  "kernelspec": {
   "display_name": "Python 3",
   "language": "python",
   "name": "python3"
  },
  "language_info": {
   "codemirror_mode": {
    "name": "ipython",
    "version": 3
   },
   "file_extension": ".py",
   "mimetype": "text/x-python",
   "name": "python",
   "nbconvert_exporter": "python",
   "pygments_lexer": "ipython3",
   "version": "3.6.12"
  }
 },
 "nbformat": 4,
 "nbformat_minor": 4
}
