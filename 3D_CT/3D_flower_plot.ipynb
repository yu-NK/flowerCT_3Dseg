{
 "cells": [
  {
   "cell_type": "code",
   "execution_count": 1,
   "metadata": {},
   "outputs": [
    {
     "ename": "KeyboardInterrupt",
     "evalue": "",
     "output_type": "error",
     "traceback": [
      "\u001b[0;31m---------------------------------------------------------------------------\u001b[0m",
      "\u001b[0;31mKeyboardInterrupt\u001b[0m                         Traceback (most recent call last)",
      "\u001b[0;32m<ipython-input-1-c05bea7bfd3d>\u001b[0m in \u001b[0;36m<module>\u001b[0;34m\u001b[0m\n\u001b[1;32m     22\u001b[0m         \u001b[0;32mfor\u001b[0m \u001b[0mx_c\u001b[0m \u001b[0;32min\u001b[0m \u001b[0mrange\u001b[0m\u001b[0;34m(\u001b[0m\u001b[0;36m857\u001b[0m\u001b[0;34m)\u001b[0m\u001b[0;34m:\u001b[0m\u001b[0;34m\u001b[0m\u001b[0;34m\u001b[0m\u001b[0m\n\u001b[1;32m     23\u001b[0m             \u001b[0;32mfor\u001b[0m \u001b[0my_c\u001b[0m \u001b[0;32min\u001b[0m \u001b[0mrange\u001b[0m\u001b[0;34m(\u001b[0m\u001b[0;36m914\u001b[0m\u001b[0;34m)\u001b[0m\u001b[0;34m:\u001b[0m\u001b[0;34m\u001b[0m\u001b[0;34m\u001b[0m\u001b[0m\n\u001b[0;32m---> 24\u001b[0;31m                 \u001b[0;32mif\u001b[0m\u001b[0;34m(\u001b[0m\u001b[0mimg\u001b[0m\u001b[0;34m[\u001b[0m\u001b[0mx_c\u001b[0m\u001b[0;34m,\u001b[0m\u001b[0my_c\u001b[0m\u001b[0;34m]\u001b[0m \u001b[0;34m>=\u001b[0m \u001b[0mthreshold_value\u001b[0m\u001b[0;34m)\u001b[0m\u001b[0;34m:\u001b[0m\u001b[0;34m\u001b[0m\u001b[0;34m\u001b[0m\u001b[0m\n\u001b[0m\u001b[1;32m     25\u001b[0m                     \u001b[0;31m#ORA_3d_axial[z][y][x] = 1\u001b[0m\u001b[0;34m\u001b[0m\u001b[0;34m\u001b[0m\u001b[0;34m\u001b[0m\u001b[0m\n\u001b[1;32m     26\u001b[0m                     \u001b[0mnp\u001b[0m\u001b[0;34m.\u001b[0m\u001b[0mappend\u001b[0m\u001b[0;34m(\u001b[0m\u001b[0mx\u001b[0m\u001b[0;34m,\u001b[0m\u001b[0mx_c\u001b[0m\u001b[0;34m)\u001b[0m\u001b[0;34m\u001b[0m\u001b[0;34m\u001b[0m\u001b[0m\n",
      "\u001b[0;31mKeyboardInterrupt\u001b[0m: "
     ]
    }
   ],
   "source": [
    "import copy\n",
    "import numpy as np\n",
    "import open3d as o3d\n",
    "import cv2\n",
    "import matplotlib.pyplot as plt\n",
    "from mpl_toolkits.mplot3d import Axes3D\n",
    "\n",
    "if __name__ == \"__main__\":\n",
    "    \n",
    "    ORA_3d_axial = np.zeros((888,914,857))\n",
    "    \n",
    "    x = np.empty(0)\n",
    "    y = np.empty(0)\n",
    "    z = np.empty(0)\n",
    "    \n",
    "    for z_c in range(887):\n",
    "        img = cv2.imread('../flower_CT_photo/ORA/[vg-data] ORA/volume_1/ORA-{0:03d}.tif'.format(z_c),0)\n",
    "    \n",
    "        #閾値設定\n",
    "        threshold_value = 60\n",
    "    \n",
    "        for x_c in range(857):\n",
    "            for y_c in range(914):\n",
    "                if(img[x_c,y_c] >= threshold_value):\n",
    "                    #ORA_3d_axial[z][y][x] = 1\n",
    "                    np.append(x,x_c)\n",
    "                    np.append(y,y_c)\n",
    "                    np.append(z,z_c) \n",
    "    \n",
    "    mesh_x, mesh_y, mesh_z = np.meshgrid(x, y, z)\n",
    "    \n",
    "    xyz = np.zeros((np.size(mesh_x), 3))\n",
    "    xyz[:, 0] = np.reshape(mesh_x, -1)\n",
    "    xyz[:, 1] = np.reshape(mesh_y, -1)\n",
    "    xyz[:, 2] = np.reshape(mesh_z, -1)\n",
    "    \n",
    "    # pass xyz to Open3d.o3d.Geometry.PointCloud and visualize\n",
    "    pcd = o3d.PointCloud()\n",
    "\n",
    "    pcd.points = o3d.Vector3dVector(xyz)\n",
    "\n",
    "    o3d.write_point_cloud(\"../output/ORA_axial.ply\", pcd)\n",
    "    \n",
    "\n",
    "    # load saved point cloud and visualizze it\n",
    "    # io.read_point_cloud(\"../../TestData/sync.ply\")だとAttributionErrorだった、正しく動いたのは下記\n",
    "#    pcd_load = o3d.read_point_cloud(\"./sync.ply\")\n",
    "    # print(type(pcd_load))\n",
    "    # visualization.draw_geometries([pcd_load])だとAttributionErrorだった、正しく動いたのは下記\n",
    "#    o3d.draw_geometries([pcd_load])\n",
    "    # convert Open3D.o3d.PointCloud to numpy array\n",
    "#    xyz_load = np.asarray(pcd_load.points)\n",
    "    # print(xyz_load == xyz) #=> すべてTrueが返ってくることを確認"
   ]
  },
  {
   "cell_type": "code",
   "execution_count": null,
   "metadata": {},
   "outputs": [],
   "source": []
  }
 ],
 "metadata": {
  "kernelspec": {
   "display_name": "Python 3",
   "language": "python",
   "name": "python3"
  },
  "language_info": {
   "codemirror_mode": {
    "name": "ipython",
    "version": 3
   },
   "file_extension": ".py",
   "mimetype": "text/x-python",
   "name": "python",
   "nbconvert_exporter": "python",
   "pygments_lexer": "ipython3",
   "version": "3.6.12"
  }
 },
 "nbformat": 4,
 "nbformat_minor": 4
}
