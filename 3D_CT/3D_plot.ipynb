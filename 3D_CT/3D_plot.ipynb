{
 "cells": [
  {
   "cell_type": "code",
   "execution_count": 3,
   "metadata": {},
   "outputs": [],
   "source": [
    "import cv2\n",
    "import numpy as np\n",
    "import matplotlib.pyplot as plt\n",
    "from mpl_toolkits.mplot3d import Axes3D\n",
    "\n",
    "#軸断面のスライス画像を閾値60で2値化した上で3次元配列に格納\n",
    "\n",
    "ORA_3d_axial = [[[0]*857 for y in range(914)] for z in range(888)]\n",
    "#ORA_3d_axial = zeros((888,914,857))\n",
    "\n",
    "for z in range(887):\n",
    "    img = cv2.imread('../flower_CT_photo/ORA/[vg-data] ORA/volume_1/ORA-{0:03d}.tif'.format(z),0)\n",
    "    \n",
    "    #閾値設定\n",
    "    threshold_value = 60\n",
    "    \n",
    "    for x in range(857):\n",
    "        for y in range(914):\n",
    "            if(img[x,y] >= threshold_value):\n",
    "                ORA_3d_axial[z][y][x] = 1"
   ]
  },
  {
   "cell_type": "code",
   "execution_count": null,
   "metadata": {},
   "outputs": [],
   "source": [
    "xc = np.empty(0)\n",
    "yc = np.empty(0)\n",
    "zc = np.empty(0)\n",
    "\n",
    "for z in range(887):\n",
    "  for x in range(857):\n",
    "    for y in range(914):\n",
    "      if(ORA_3d_axial[z][y][x]==1):\n",
    "        xc = np.append(xc,x)\n",
    "        yc = np.append(yc,y)\n",
    "        zc = np.append(zc,z)\n",
    "\n",
    "fig = plt.figure()\n",
    "\n",
    "ax = fig.add_subplot(1,1,1,projection='3d')\n",
    "\n",
    "ax.scatter(x,y,z,c='b')\n",
    "plt.show"
   ]
  },
  {
   "cell_type": "code",
   "execution_count": null,
   "metadata": {},
   "outputs": [],
   "source": []
  }
 ],
 "metadata": {
  "kernelspec": {
   "display_name": "Python 3",
   "language": "python",
   "name": "python3"
  },
  "language_info": {
   "codemirror_mode": {
    "name": "ipython",
    "version": 3
   },
   "file_extension": ".py",
   "mimetype": "text/x-python",
   "name": "python",
   "nbconvert_exporter": "python",
   "pygments_lexer": "ipython3",
   "version": "3.6.12"
  }
 },
 "nbformat": 4,
 "nbformat_minor": 4
}
